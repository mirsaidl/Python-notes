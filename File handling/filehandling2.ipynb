{
 "cells": [
  {
   "cell_type": "code",
   "execution_count": 10,
   "metadata": {},
   "outputs": [
    {
     "name": "stdout",
     "output_type": "stream",
     "text": [
      "Ron is from  Burrow.\n",
      "Harry is from  \"Number Four.\n",
      "Draco is from  Malfoy Manor.\n"
     ]
    }
   ],
   "source": [
    "#Use of lampda functions\n",
    "import csv\n",
    "\n",
    "names = []\n",
    "\n",
    "with open(\"students.csv\") as file:\n",
    "    reader = csv.reader(file)\n",
    "    for row in reader:\n",
    "        names.append({\"name\" : row[0], \"home\" : row[1]})\n",
    "        \n",
    "\n",
    "for person in sorted(names, key=lambda person: person['name'], reverse=True):\n",
    "    print(f\"{person['name']} is from {person['home']}.\")"
   ]
  },
  {
   "cell_type": "code",
   "execution_count": 17,
   "metadata": {},
   "outputs": [
    {
     "name": "stdout",
     "output_type": "stream",
     "text": [
      "Ron is from  Burrow\n",
      "Harry is from  \"Number Four\n",
      "Draco is from  Malfoy Manor\n"
     ]
    }
   ],
   "source": [
    "import csv\n",
    "\n",
    "names = []\n",
    "\n",
    "with open(\"students.csv\") as file:\n",
    "    reader = csv.DictReader(file) # diff\n",
    "    for row in reader:\n",
    "        names.append({\"name\" : row[\"name\"], \"home\" : row[\"home\"]})\n",
    "        \n",
    "\n",
    "for person in sorted(names, key=lambda person: person['name'], reverse=True):\n",
    "    print(f\"{person['name']} is from {person['home']}\")"
   ]
  },
  {
   "cell_type": "code",
   "execution_count": 23,
   "metadata": {},
   "outputs": [],
   "source": [
    "import csv\n",
    "\n",
    "name = input(\"What is your name? \")\n",
    "home = input(\"Where is your home? \")\n",
    "\n",
    "with open(\"students.csv\", \"a\") as file:\n",
    "    writer = csv.DictWriter(file, fieldnames=[\"name\", \"home\"])\n",
    "    writer.writerow({\"name\": name, \"home\" : home})\n",
    "        "
   ]
  },
  {
   "cell_type": "code",
   "execution_count": null,
   "metadata": {
    "tags": []
   },
   "outputs": [],
   "source": [
    "import sys\n",
    "from PIL import Image\n",
    "\n",
    "images = []\n",
    "\n",
    "for arg in sys.argv[1:]:\n",
    "    image = Image.open(arg)\n",
    "    images.append(image)\n",
    "    \n",
    "images[0].save(\n",
    "    \"costumes.gif\" , save_all = True, append_images =[images[1]], duration=200\n",
    ")"
   ]
  }
 ],
 "metadata": {
  "kernelspec": {
   "display_name": "base",
   "language": "python",
   "name": "python3"
  },
  "language_info": {
   "codemirror_mode": {
    "name": "ipython",
    "version": 3
   },
   "file_extension": ".py",
   "mimetype": "text/x-python",
   "name": "python",
   "nbconvert_exporter": "python",
   "pygments_lexer": "ipython3",
   "version": "3.11.4"
  }
 },
 "nbformat": 4,
 "nbformat_minor": 2
}
