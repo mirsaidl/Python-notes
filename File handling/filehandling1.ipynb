{
 "cells": [
  {
   "cell_type": "code",
   "execution_count": 2,
   "metadata": {},
   "outputs": [
    {
     "name": "stdout",
     "output_type": "stream",
     "text": [
      "Hello, Ali\n",
      "Hello, Jonibek\n",
      "Hello, Mirsaid\n"
     ]
    }
   ],
   "source": [
    "names = []\n",
    "\n",
    "for _ in range(3):\n",
    "    names.append(input(\"What's your name? \"))\n",
    "    \n",
    "for name in sorted(names):\n",
    "    print(f\"Hello, {name}\")"
   ]
  },
  {
   "cell_type": "code",
   "execution_count": 12,
   "metadata": {},
   "outputs": [],
   "source": [
    "name = input(\"What's your name? \")\n",
    "\n",
    "with open(\"names.txt\" , \"a\") as file:\n",
    "    file.write(f\"{name}\\n\") \n"
   ]
  },
  {
   "cell_type": "code",
   "execution_count": null,
   "metadata": {},
   "outputs": [],
   "source": [
    "names = []\n",
    "\n",
    "with open(\"names.txt\", \"r\") as file:\n",
    "    for line in file:\n",
    "        names.append(line.rstrip())\n",
    "\n",
    "for name in sorted(names, reverse= True):\n",
    "    print(\"Hello,\" , name)"
   ]
  },
  {
   "cell_type": "code",
   "execution_count": 39,
   "metadata": {},
   "outputs": [
    {
     "name": "stdout",
     "output_type": "stream",
     "text": [
      "Mirsaid is in Bukhara.\n",
      "Ismoil is in Samarkand.\n",
      "Draco is in New york.\n",
      "Ali is in Tashkent.\n"
     ]
    }
   ],
   "source": [
    "names = []\n",
    "\n",
    "with open(\"names.csv\") as file:\n",
    "    for line in file:\n",
    "        name, house = line.rstrip().split(\",\")\n",
    "        person = {\"name\" : name, \"house\" : house}\n",
    "        names.append(person)\n",
    "\n",
    "def get_name(person):\n",
    "    return person['name']\n",
    "\n",
    "\n",
    "for person in sorted(names, key=get_name, reverse=True):\n",
    "    print(f\"{person['name']} is in {person['house']}.\")"
   ]
  }
 ],
 "metadata": {
  "kernelspec": {
   "display_name": "base",
   "language": "python",
   "name": "python3"
  },
  "language_info": {
   "codemirror_mode": {
    "name": "ipython",
    "version": 3
   },
   "file_extension": ".py",
   "mimetype": "text/x-python",
   "name": "python",
   "nbconvert_exporter": "python",
   "pygments_lexer": "ipython3",
   "version": "3.11.4"
  }
 },
 "nbformat": 4,
 "nbformat_minor": 2
}
